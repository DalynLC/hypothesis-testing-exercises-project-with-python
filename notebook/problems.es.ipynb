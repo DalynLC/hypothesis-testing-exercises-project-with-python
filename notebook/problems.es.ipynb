{
 "cells": [
  {
   "cell_type": "markdown",
   "id": "d9d036c6",
   "metadata": {},
   "source": [
    "# Problemas de prueba de hipótesis"
   ]
  },
  {
   "cell_type": "markdown",
   "id": "d157c4db",
   "metadata": {},
   "source": [
    "## Ejercicio 1\n",
    "\n",
    "Usted es un nutricionista que investiga dos tipos diferentes de dietas para ver si existe una diferencia significativa en la pérdida de peso después de un mes. Eliges dos grupos aleatorios de personas; un grupo sigue la primera dieta y el otro sigue la segunda. Al final del mes, se registra la pérdida de peso (en kg) de cada persona:\n",
    "\n",
    "| Diet 1 | Diet 2 |\n",
    "|:-------|:-------|\n",
    "| 2.0 | 3.0 |\n",
    "| 2.5 | 3.2 |\n",
    "| 3.0 | 3.1 |\n",
    "| 2.8 | 2.9 |\n",
    "| 2.3 | 2.8 |\n",
    "| 2.7 | 3.0 |\n",
    "| 2.5 | 3.2 |\n",
    "\n",
    "Con estos datos se busca responder a la siguiente pregunta: ¿Existe una diferencia significativa en la pérdida de peso promedio entre las personas que siguieron la primera dieta y las que siguieron la segunda dieta?\n",
    "\n",
    "Para sacar conclusiones, siga los siguientes puntos:\n",
    "\n",
    "-Enunciar la hipótesis: hipótesis nula y alternativa.\n",
    "-Realizar la prueba para comprobar la hipótesis. Puede utilizar la prueba t de Student.\n",
    "-Analizar las conclusiones."
   ]
  },
  {
   "cell_type": "markdown",
   "id": "2aeaaf37",
   "metadata": {},
   "source": [
    "##Hipótesis Nula:\n",
    "No hay diferencia significativa en la pérdida de peso promedio de las personas que siguieron la dieta 1, y las personas que siguieron la dieta 2\n",
    "\n",
    "##Hipótesis Alternativa:\n",
    "Hay una diferencia significativa en la pérdida de peso promedio entre las personas que hicieron la dieta 1 y las personas que siguieron la dieta 2  "
   ]
  },
  {
   "cell_type": "code",
   "execution_count": 2,
   "id": "8e0f3cf0",
   "metadata": {},
   "outputs": [
    {
     "name": "stdout",
     "output_type": "stream",
     "text": [
      "t-value: -3.5383407969933938\n",
      "p-value: 0.004083270191713912\n"
     ]
    }
   ],
   "source": [
    "# TODO\n",
    "from scipy import stats\n",
    "\n",
    "Diet1 = [2.0,2.5,3.0,2.8,2.3,2.7,2.5]\n",
    "Diet2 = [3.0,3.2,3.1,2.9,2.8,3.0,3.2]\n",
    "\n",
    "t_value, p_value = stats.ttest_ind(Diet1, Diet2)\n",
    "\n",
    "print(f\"t-value: {t_value}\")\n",
    "print(f\"p-value: {p_value}\")"
   ]
  },
  {
   "cell_type": "markdown",
   "id": "6724b738",
   "metadata": {},
   "source": [
    "##Conclusión\n",
    "Después de realizar la prueba T-Student se obtuvieron los siguientes valores:\n",
    " - t: -3.5383\n",
    " - p: 0.00408\n",
    "\n",
    " El valor de significancia se establece como 0.05, y ya que p obtuvo un valor menor a ese, se rechaza la hipótesis nula y se establece que hay una diferencia de peso significativa entre el peso de las personas que siguieron dietas distintas"
   ]
  },
  {
   "cell_type": "markdown",
   "id": "f432e18e",
   "metadata": {},
   "source": [
    "## ANOVA\n",
    "\n",
    "**ANOVA** (*Analysis of Variance - Análisis de variación*) Es una técnica estadística utilizada para comparar las medidas de dos o más grupos. La idea detrás de ANOVA es descomponer la variabilidad total de los datos en dos componentes: variabilidad entre grupos y variabilidad dentro de los grupos:\n",
    "\n",
    "- **Variabilidad entre grupos**: Esta variabilidad se refiere a las diferencias entre las medias del grupo. Si esta variabilidad es considerablemente mayor que la variabilidad dentro del grupo, podría ser una indicación de que al menos una de las medias del grupo es diferente.\n",
    "- **Variabilidad dentro del grupo**: Esta variabilidad se refiere a la dispersión de los datos dentro de cada grupo. Si todos los grupos tienen una variabilidad similar, entonces cualquier diferencia notable en las medias de los grupos podría considerarse significativa.\n",
    "\n",
    "Las hipótesis en ANOVA suelen incluir:\n",
    "\n",
    "- **Hipótesis nula** ($H₀$): Las medias de todos los grupos son iguales.\n",
    "- **Hipótesis alternativa** ($H₁$): Al menos una de las medias del grupo es diferente.\n",
    "\n",
    "Si el resultado de la prueba ANOVA es significativo (por ejemplo, un valor p inferior a un umbral como 0,05), esto sugiere que al menos la media de un grupo es diferente."
   ]
  },
  {
   "cell_type": "markdown",
   "id": "fc5f3721",
   "metadata": {},
   "source": [
    "## Ejercicio 2\n",
    "\n",
    "Un agricultor decide probar tres tipos diferentes de fertilizantes para determinar si alguno es superior en términos de producción de maíz. El agricultor planta maíz en 15 parcelas idénticas y utiliza los tres fertilizantes (5 parcelas para cada tipo). Al final de la temporada mide el rendimiento de maíz (en kg) de cada parcela, con el siguiente resultado:\n",
    "\n",
    "| Fertilizante 1 | Fertilizante 2 | Fertilizante 3 |\n",
    "|:-------------|:-------------|:-------------|\n",
    "| 20 | 22 | 24 |\n",
    "| 21 | 21 | 23 |\n",
    "| 20 | 23 | 22 |\n",
    "| 19 | 22 | 23 |\n",
    "| 20 | 21 | 24 |\n",
    "\n",
    "Con estos datos busca responder la siguiente pregunta: ¿Existe una diferencia significativa en el rendimiento promedio del maíz entre los tres tipos de fertilizantes?\n",
    "\n",
    "Para ayudarte, sigue los siguientes puntos:\n",
    "\n",
    "-Enunciar la hipótesis: hipótesis nula y alternativa.\n",
    "-Realizar la prueba ANOVA.\n",
    "-Analizar las conclusiones.\n",
    "-Si un fertilizante es mejor que otro, ¿cómo podemos saberlo?"
   ]
  },
  {
   "cell_type": "markdown",
   "id": "59a642d7",
   "metadata": {},
   "source": [
    "Hipótesis nula: las medias de los tres grupos de fertilizantes es la misma\n",
    "Hipótesis alterna: al menos una de las medias de los tres grupos es distinta"
   ]
  },
  {
   "cell_type": "code",
   "execution_count": 2,
   "id": "eecad0ca",
   "metadata": {},
   "outputs": [
    {
     "name": "stdout",
     "output_type": "stream",
     "text": [
      "f-value: 20.315789473684188\n",
      "p-value: 0.00014047824793190475\n"
     ]
    }
   ],
   "source": [
    "# TODO\n",
    "import scipy.stats as stats\n",
    "\n",
    "fert1 = [20, 21, 20, 19, 20]\n",
    "fert2 = [22, 21, 23, 22, 21]\n",
    "fert3 = [24, 23, 22, 23, 24]\n",
    "\n",
    "# ANOVA test\n",
    "f_value, p_value = stats.f_oneway(fert1, fert2, fert3)\n",
    "\n",
    "print(f\"f-value: {f_value}\")\n",
    "print(f\"p-value: {p_value}\")"
   ]
  },
  {
   "cell_type": "markdown",
   "id": "fbd5f668",
   "metadata": {},
   "source": [
    "Se establece el valor de significancia en 0.05, y con esto se rechaza la hipótesis nula, con lo cual concluimos que al menos uno de los 3 fertilizantes hace una diferencia significativa."
   ]
  },
  {
   "cell_type": "markdown",
   "id": "ceb4c2fb",
   "metadata": {},
   "source": [
    "¿Cómo se puede determinar cuál es el mejor fertilizante?\n",
    "\n",
    "Existen distintos tipos de análisis post-hoc que pueden ayudar a determinar la diferencia entre los grupos, como el Nemenyi Test y Tukey HSD Test"
   ]
  },
  {
   "cell_type": "code",
   "execution_count": 7,
   "id": "8f4a532e",
   "metadata": {},
   "outputs": [
    {
     "name": "stdout",
     "output_type": "stream",
     "text": [
      "Nemenyi Results: \n",
      "          0         1         2\n",
      "0  1.000000  0.253784  0.019679\n",
      "1  0.253784  1.000000  0.509841\n",
      "2  0.019679  0.509841  1.000000\n",
      "\n",
      "\n",
      "Tukey Results: \n",
      "Multiple Comparison of Means - Tukey HSD, FWER=0.05\n",
      "==================================================\n",
      "group1 group2 meandiff p-adj  lower  upper  reject\n",
      "--------------------------------------------------\n",
      "     A      B      1.8 0.0099 0.4572 3.1428   True\n",
      "     A      C      3.2 0.0001 1.8572 4.5428   True\n",
      "     B      C      1.4 0.0409 0.0572 2.7428   True\n",
      "--------------------------------------------------\n"
     ]
    }
   ],
   "source": [
    "import scikit_posthocs as sp\n",
    "import numpy as np\n",
    "from statsmodels.stats.multicomp import pairwise_tukeyhsd\n",
    "\n",
    "data1 = np.array([fert1, fert2, fert3])\n",
    "#perform Nemenyi post-hoc test\n",
    "print(\"Nemenyi Results: \")\n",
    "print(sp.posthoc_nemenyi_friedman(data1.T))\n",
    "print(\"\\n\")\n",
    "\n",
    "print(\"Tukey Results: \")\n",
    "tukey_results = pairwise_tukeyhsd(np.concatenate([fert1, fert2, fert3]),\n",
    "                                  np.concatenate([['A'] * len(fert1), ['B'] * len(fert2), ['C'] * len(fert3)]))\n",
    "\n",
    "print(tukey_results)"
   ]
  },
  {
   "cell_type": "markdown",
   "id": "3010f6d2",
   "metadata": {},
   "source": [
    "Con los resultados obtenidos, se concluye que hay una diferencia significativa dependiendo del uso de distintos fertilizantes. Los resultados nos indican que el fertilizante 2 no muestra una diferencia significativa respecto a el fertilizante 1 y 3, sin embargo, al comparar los fertilizantes 1 y 3, se infiere que el fertilizante 3 tiene un mejor desempeño en comparación con el fertilizante 1, por lo que el 3 es el mejor"
   ]
  }
 ],
 "metadata": {
  "kernelspec": {
   "display_name": "Python 3",
   "language": "python",
   "name": "python3"
  },
  "language_info": {
   "codemirror_mode": {
    "name": "ipython",
    "version": 3
   },
   "file_extension": ".py",
   "mimetype": "text/x-python",
   "name": "python",
   "nbconvert_exporter": "python",
   "pygments_lexer": "ipython3",
   "version": "3.11.4"
  }
 },
 "nbformat": 4,
 "nbformat_minor": 5
}
